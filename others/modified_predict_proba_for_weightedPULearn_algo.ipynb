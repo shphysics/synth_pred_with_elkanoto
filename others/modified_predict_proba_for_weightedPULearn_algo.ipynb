{
 "cells": [
  {
   "cell_type": "code",
   "execution_count": null,
   "metadata": {},
   "outputs": [],
   "source": [
    " def predict_proba(self, X):\n",
    "        \"\"\"Predict class probabilities for X.\n",
    "\n",
    "        Parameters\n",
    "        ----------\n",
    "        X : array-like of shape = [n_samples, n_features]\n",
    "            The input samples.\n",
    "\n",
    "        Returns\n",
    "        -------\n",
    "        p : array of shape = [n_samples, n_classes]\n",
    "            The class probabilities of the input samples. The order of the\n",
    "            classes corresponds to that in the attribute classes_.\n",
    "        \"\"\"\n",
    "        if not self.estimator_fitted:\n",
    "            raise NotFittedError(\n",
    "                'The estimator must be fitted before calling predict_proba().'\n",
    "            )\n",
    "        n = self.labeled\n",
    "        m = self.labeled + self.unlabeled\n",
    "        # self.estimator.predict_proba gives the probability of P(s=1|x)\n",
    "        # for x belongs to P or U\n",
    "        probabilistic_predictions = self.estimator.predict_proba(X)\n",
    "        proba_pred_shape = np.shape(probabilistic_predictions)\n",
    "        yEstimate = self._estimateEy(probabilistic_predictions)\n",
    "        #according to the paper, g(x) = probabilistic_predictions[:, 1]\n",
    "        probabilistic_predictions = probabilistic_predictions[:, 1]\n",
    "        one_matrix = np.ones(proba_pred_shape)\n",
    "        one_vec = one_matrix[:, 1]\n",
    "        numerator = yEstimate*(((one_vec-probabilistic_predictions)*self.c) + (one_vec-self.c)*probabilistic_predictions)\n",
    "        denominator = ((one_vec-probabilistic_predictions)*probabilistic_predictions)\n",
    "        return numerator / denominator"
   ]
  }
 ],
 "metadata": {
  "kernelspec": {
   "display_name": "my_pymatgen",
   "language": "python",
   "name": "my_pymatgen"
  },
  "language_info": {
   "codemirror_mode": {
    "name": "ipython",
    "version": 3
   },
   "file_extension": ".py",
   "mimetype": "text/x-python",
   "name": "python",
   "nbconvert_exporter": "python",
   "pygments_lexer": "ipython3",
   "version": "3.8.3"
  }
 },
 "nbformat": 4,
 "nbformat_minor": 4
}
