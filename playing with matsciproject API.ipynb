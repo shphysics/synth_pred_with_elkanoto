{
 "cells": [
  {
   "cell_type": "code",
   "execution_count": 2,
   "metadata": {},
   "outputs": [],
   "source": [
    "import numpy as np\n",
    "import sklearn\n",
    "import csv\n",
    "import pandas as pd\n",
    "import pymatgen as mg\n",
    "import pymatgen.ext.matproj\n",
    "import random\n",
    "import os\n",
    "from bisect import bisect_left\n",
    "from sklearn import preprocessing\n",
    "from sklearn.datasets.base import Bunch\n",
    "from sklearn import datasets, linear_model\n",
    "from sklearn.linear_model import LogisticRegression\n",
    "from sklearn.metrics import mean_squared_error, r2_score\n",
    "from sklearn.preprocessing import StandardScaler"
   ]
  },
  {
   "cell_type": "code",
   "execution_count": 12,
   "metadata": {},
   "outputs": [
    {
     "name": "stdout",
     "output_type": "stream",
     "text": [
      "Full Formula (Lu2 Al4)\n",
      "Reduced Formula: LuAl2\n",
      "abc   :   5.488740   5.488740   5.488740\n",
      "angles:  60.000000  60.000000  60.000000\n",
      "Sites (6)\n",
      "  #  SP        a      b      c    magmom\n",
      "---  ----  -----  -----  -----  --------\n",
      "  0  Lu    0.25   0.25   0.25     -0\n",
      "  1  Lu    0      0      0        -0\n",
      "  2  Al    0.625  0.125  0.625    -0\n",
      "  3  Al    0.625  0.625  0.125    -0.001\n",
      "  4  Al    0.125  0.625  0.625     0.001\n",
      "  5  Al    0.625  0.625  0.625     0.001\n",
      "Full Formula (B1 P1)\n",
      "Reduced Formula: BP\n",
      "abc   :   3.215084   3.215084   3.215084\n",
      "angles:  60.000000  60.000000  60.000000\n",
      "Sites (2)\n",
      "  #  SP       a     b     c    magmom\n",
      "---  ----  ----  ----  ----  --------\n",
      "  0  B     0     0     0            0\n",
      "  1  P     0.25  0.25  0.25        -0\n"
     ]
    }
   ],
   "source": [
    "with mg.MPRester(\"UMQtSMmTjGsN9xpZz1\") as m:\n",
    "\n",
    "    # Structure for material id\n",
    "    structure1 = m.get_structure_by_material_id(\"mp-1234\")\n",
    "    print(structure1)\n",
    "    \n",
    "    structure2 =m.get_structure_by_material_id(\"mp-1479\")\n",
    "    print(structure2)\n",
    "    \n",
    "    # Dos for material id\n",
    "    dos = m.get_dos_by_material_id(\"mp-1234\")\n",
    "\n",
    "    # Bandstructure for material id\n",
    "    bandstructure = m.get_bandstructure_by_material_id(\"mp-1234\")"
   ]
  }
 ],
 "metadata": {
  "kernelspec": {
   "display_name": "my_pymatgen",
   "language": "python",
   "name": "my_pymatgen"
  },
  "language_info": {
   "codemirror_mode": {
    "name": "ipython",
    "version": 3
   },
   "file_extension": ".py",
   "mimetype": "text/x-python",
   "name": "python",
   "nbconvert_exporter": "python",
   "pygments_lexer": "ipython3",
   "version": "3.8.3"
  }
 },
 "nbformat": 4,
 "nbformat_minor": 4
}
